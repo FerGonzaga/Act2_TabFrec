{
 "cells": [
  {
   "cell_type": "code",
   "execution_count": 4,
   "metadata": {},
   "outputs": [
    {
     "name": "stdout",
     "output_type": "stream",
     "text": [
      "Primeras 10 filas:\n",
      "   ID Dato Cualitativo    Categoría\n",
      "0   1          Sevilla     Animales\n",
      "1   2            Laura     Animales\n",
      "2   3      Programador      Nombres\n",
      "3   4          Tortuga      Comidas\n",
      "4   5           Málaga      Colores\n",
      "5   6            Sofía      Nombres\n",
      "6   7            Negro  Profesiones\n",
      "7   8        Ingeniero      Nombres\n",
      "8   9          Tortuga     Animales\n",
      "9  10        Diseñador     Animales\n",
      "\n",
      "Conteo por categoría:\n",
      "Categoría\n",
      "Nombres        90\n",
      "Colores        86\n",
      "Profesiones    86\n",
      "Ciudades       84\n",
      "Animales       81\n",
      "Comidas        73\n",
      "Name: count, dtype: int64\n",
      "\n",
      "Datos guardados en 'datos_cualitativos.csv'\n"
     ]
    }
   ],
   "source": [
    "import pandas as pd\n",
    "import numpy as np\n",
    "import random\n",
    "\n",
    "# Datos de ejemplo sin Faker\n",
    "nombres = ['Juan', 'María', 'Carlos', 'Ana', 'Luis', 'Laura', 'Pedro', 'Sofía']\n",
    "ciudades = ['Madrid', 'Barcelona', 'Valencia', 'Sevilla', 'Zaragoza', 'Málaga']\n",
    "colores = ['Rojo', 'Azul', 'Verde', 'Amarillo', 'Negro']\n",
    "profesiones = ['Ingeniero', 'Médico', 'Profesor', 'Programador', 'Diseñador']\n",
    "comidas = ['Pizza', 'Pasta', 'Ensalada', 'Sushi', 'Tacos']\n",
    "animales = ['Perro', 'Gato', 'Pájaro', 'Pez', 'Tortuga']\n",
    "\n",
    "categorias = {\n",
    "    'Nombres': nombres,\n",
    "    'Ciudades': ciudades,\n",
    "    'Colores': colores,\n",
    "    'Profesiones': profesiones,\n",
    "    'Comidas': comidas,\n",
    "    'Animales': animales\n",
    "}\n",
    "\n",
    "# Generar 500 datos aleatorios\n",
    "datos = []\n",
    "for _ in range(500):\n",
    "    categoria = random.choice(list(categorias.keys()))\n",
    "    valor = random.choice(categorias[categoria])\n",
    "    datos.append(valor)\n",
    "\n",
    "# Crear DataFrame\n",
    "df = pd.DataFrame({\n",
    "    'ID': range(1, 501),\n",
    "    'Dato Cualitativo': datos,\n",
    "    'Categoría': [random.choice(list(categorias.keys())) for _ in range(500)]\n",
    "})\n",
    "\n",
    "# Mostrar resultados\n",
    "print(\"Primeras 10 filas:\")\n",
    "print(df.head(10))\n",
    "print(\"\\nConteo por categoría:\")\n",
    "print(df['Categoría'].value_counts())\n",
    "\n",
    "# Guardar en CSV\n",
    "df.to_csv('datos_cualitativos.csv', index=False)\n",
    "print(\"\\nDatos guardados en 'datos_cualitativos.csv'\")"
   ]
  }
 ],
 "metadata": {
  "kernelspec": {
   "display_name": "Python 3",
   "language": "python",
   "name": "python3"
  },
  "language_info": {
   "codemirror_mode": {
    "name": "ipython",
    "version": 3
   },
   "file_extension": ".py",
   "mimetype": "text/x-python",
   "name": "python",
   "nbconvert_exporter": "python",
   "pygments_lexer": "ipython3",
   "version": "3.11.4"
  }
 },
 "nbformat": 4,
 "nbformat_minor": 2
}
